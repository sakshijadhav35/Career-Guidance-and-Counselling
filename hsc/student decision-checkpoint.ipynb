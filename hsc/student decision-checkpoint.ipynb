{
 "cells": [
  {
   "cell_type": "code",
   "execution_count": 1,
   "metadata": {},
   "outputs": [],
   "source": [
    "from tkinter import *\n",
    "import numpy as np\n",
    "import pandas as pd"
   ]
  },
  {
   "cell_type": "code",
   "execution_count": 2,
   "metadata": {},
   "outputs": [],
   "source": [
    "l1=['Drawing','Dancing','Singing','Sports','Video Game','Acting','Travelling',\n",
    "    'Gardening','Animals','Photography','Teaching',\n",
    "    'Exercise','Coding','Electricity Components','Mechanic Parts','Computer Parts','Researching','Architecture',\n",
    "    'Historic Collection','Botany','Zoology','Physics','Accounting','Economics','Sociology','Geography',\n",
    "    'Psycology','History','Science','Bussiness Education','Chemistry','Mathematics','Biology','Makeup','Designing',\n",
    "    'Content writing','Crafting','Literature','Reading','Cartooning','Debating','Asrtology',\n",
    "    'Hindi','French','English','Other Language',\n",
    "    'Solving Puzzles','Gymnastics','Yoga','Engeeniering','Doctor','Pharmisist','Cycling','Knitting',\n",
    "    'Director','Journalism','Bussiness','Listening Music'\n",
    "]"
   ]
  },
  {
   "cell_type": "code",
   "execution_count": 3,
   "metadata": {},
   "outputs": [],
   "source": [
    "Course=['BBA- Bachelor of Business Administration',\n",
    "'BEM- Bachelor of Event Management',\n",
    "'Integrated Law Course- BA + LL.B',\n",
    "'BJMC- Bachelor of Journalism and Mass Communication',\n",
    "'BFD- Bachelor of Fashion Designing',\n",
    "'BBS- Bachelor of Business Studies',\n",
    "'BTTM- Bachelor of Travel and Tourism Management',\n",
    "'BVA- Bachelor of Visual Arts',\n",
    "'BA in History',\n",
    "'B.Arch- Bachelor of Architecture',\n",
    "'BCA- Bachelor of Computer Applications',\n",
    "'B.Sc.- Information Technology',\n",
    "'B.Sc- Nursing',\n",
    "'BPharma- Bachelor of Pharmacy',\n",
    "'BDS- Bachelor of Dental Surgery',\n",
    "'Animation, Graphics and Multimedia',\n",
    "'B.Sc- Applied Geology',\n",
    "'B.Sc.- Physics',\n",
    "'B.Sc. Chemistry',\n",
    "'B.Sc. Mathematics',\n",
    "'B.Tech.-Civil Engineering',\n",
    "'B.Tech.-Computer Science and Engineering',\n",
    "'B.Tech.-Electrical and Electronics Engineering',\n",
    "'B.Tech.-Electronics and Communication Engineering',\n",
    "'B.Tech.-Mechanical Engineering',\n",
    "'B.Com- Bachelor of Commerce',\n",
    "'BA in Economics',\n",
    "'CA- Chartered Accountancy',\n",
    "'CS- Company Secretary',\n",
    "'Diploma in Dramatic Arts',\n",
    "'MBBS',\n",
    "'Civil Services',\n",
    "'BA in English',\n",
    "'BA in Hindi',\n",
    "'B.Ed.'\n",
    "]"
   ]
  },
  {
   "cell_type": "code",
   "execution_count": 4,
   "metadata": {},
   "outputs": [],
   "source": [
    "l2=[]\n",
    "for x in range(0,len(l1)):\n",
    "    l2.append(0)"
   ]
  },
  {
   "cell_type": "code",
   "execution_count": 5,
   "metadata": {},
   "outputs": [],
   "source": [
    "df=pd.read_csv(\"C:/Users/vaish/Downloads/stud_training.csv\")  \n",
    "\n",
    "df.replace({'Courses':{'BBA- Bachelor of Business Administration':0,\n",
    "'BEM- Bachelor of Event Management':1,\n",
    "'Integrated Law Course- BA + LL.B':2,\n",
    "'BJMC- Bachelor of Journalism and Mass Communication':3,\n",
    "'BFD- Bachelor of Fashion Designing':4,\n",
    "'BBS- Bachelor of Business Studies':5,\n",
    "'BTTM- Bachelor of Travel and Tourism Management':6,\n",
    "'BVA- Bachelor of Visual Arts':7,\n",
    "'BA in History':8,\n",
    "'B.Arch- Bachelor of Architecture':9,\n",
    "'BCA- Bachelor of Computer Applications':10,\n",
    "'B.Sc.- Information Technology':11,\n",
    "'B.Sc- Nursing':12,\n",
    "'BPharma- Bachelor of Pharmacy':13,\n",
    "'BDS- Bachelor of Dental Surgery':14,\n",
    "'Animation, Graphics and Multimedia':15,\n",
    "'B.Sc- Applied Geology':16,\n",
    "'B.Sc.- Physics':17,\n",
    "'B.Sc. Chemistry':18,\n",
    "'B.Sc. Mathematics':19,\n",
    "'B.Tech.-Civil Engineering':20,\n",
    "'B.Tech.-Computer Science and Engineering':21,\n",
    "'B.Tech.-Electrical and Electronics Engineering':22,\n",
    "'B.Tech.-Electronics and Communication Engineering':23,\n",
    "'B.Tech.-Mechanical Engineering':24,\n",
    "'B.Com- Bachelor of Commerce':25,\n",
    "'BA in Economics':26,\n",
    "'CA- Chartered Accountancy':27,\n",
    "'CS- Company Secretary':28,\n",
    "'Diploma in Dramatic Arts':29,\n",
    "'MBBS':30,\n",
    "'Civil Services':31,\n",
    "'BA in English':32,\n",
    "'BA in Hindi':33,\n",
    "'B.Ed.':34\n",
    "}},inplace=True)"
   ]
  },
  {
   "cell_type": "code",
   "execution_count": 6,
   "metadata": {},
   "outputs": [
    {
     "data": {
      "text/plain": [
       "array([ 0,  0,  0, ..., 34, 34, 34], dtype=int64)"
      ]
     },
     "execution_count": 6,
     "metadata": {},
     "output_type": "execute_result"
    }
   ],
   "source": [
    "X= df[l1]\n",
    "\n",
    "y = df[[\"Courses\"]]\n",
    "np.ravel(y)"
   ]
  },
  {
   "cell_type": "code",
   "execution_count": 7,
   "metadata": {},
   "outputs": [
    {
     "data": {
      "text/plain": [
       "array([ 0,  1,  2,  3,  4,  5,  6,  7,  8,  9, 10, 11, 12, 13, 14, 15, 16,\n",
       "       17, 18, 19, 20, 21, 23, 22, 24, 25, 26, 27, 28, 29, 30, 31, 32, 33,\n",
       "       34], dtype=int64)"
      ]
     },
     "execution_count": 7,
     "metadata": {},
     "output_type": "execute_result"
    }
   ],
   "source": [
    "tr=pd.read_csv(\"C:/Users/vaish/Downloads/stud_testing.csv\") \n",
    "tr.replace({'Courses':{'BBA- Bachelor of Business Administration':0,\n",
    "'BEM- Bachelor of Event Management':1,\n",
    "'Integrated Law Course- BA + LL.B':2,\n",
    "'BJMC- Bachelor of Journalism and Mass Communication':3,\n",
    "'BFD- Bachelor of Fashion Designing':4,\n",
    "'BBS- Bachelor of Business Studies':5,\n",
    "'BTTM- Bachelor of Travel and Tourism Management':6,\n",
    "'BVA- Bachelor of Visual Arts':7,\n",
    "'BA in History':8,\n",
    "'B.Arch- Bachelor of Architecture':9,\n",
    "'BCA- Bachelor of Computer Applications':10,\n",
    "'B.Sc.- Information Technology':11,\n",
    "'B.Sc- Nursing':12,\n",
    "'BPharma- Bachelor of Pharmacy':13,\n",
    "'BDS- Bachelor of Dental Surgery':14,\n",
    "'Animation, Graphics and Multimedia':15,\n",
    "'B.Sc- Applied Geology':16,\n",
    "'B.Sc.- Physics':17,\n",
    "'B.Sc. Chemistry':18,\n",
    "'B.Sc. Mathematics':19,\n",
    "'B.Tech.-Civil Engineering':20,\n",
    "'B.Tech.-Computer Science and Engineering':21,\n",
    "'B.Tech.-Electrical and Electronics Engineering':22,\n",
    "'B.Tech.-Electronics and Communication Engineering':23,\n",
    "'B.Tech.-Mechanical Engineering':24,\n",
    "'B.Com- Bachelor of Commerce':25,\n",
    "'BA in Economics':26,\n",
    "'CA- Chartered Accountancy':27,\n",
    "'CS- Company Secretary':28,\n",
    "'Diploma in Dramatic Arts':29,\n",
    "'MBBS':30,\n",
    "'Civil Services':31,\n",
    "'BA in English':32,\n",
    "'BA in Hindi':33,\n",
    "'B.Ed.':34\n",
    "}},inplace=True)\n",
    "\n",
    "X_test= tr[l1]\n",
    "y_test = tr[[\"Courses\"]]\n",
    "np.ravel(y_test)"
   ]
  },
  {
   "cell_type": "code",
   "execution_count": 8,
   "metadata": {},
   "outputs": [],
   "source": [
    "def DecisionTree():\n",
    "\n",
    "    from sklearn import tree\n",
    "\n",
    "    clf3 = tree.DecisionTreeClassifier()   \n",
    "    clf3 = clf3.fit(X,y)\n",
    "\n",
    "\n",
    "    inter = [Interest1.get(),Interest2.get(),Interest3.get(),Interest4.get(),Interest5.get()]\n",
    "\n",
    "    for k in range(0,len(l1)):\n",
    "        # print (k,)\n",
    "        for z in inter:\n",
    "            if(z==l1[k]):\n",
    "                l2[k]=1\n",
    "\n",
    "    inputtest = [l2]\n",
    "    predict = clf3.predict(inputtest)\n",
    "    predicted=predict[0]\n",
    "\n",
    "    h='no'\n",
    "    for a in range(0,len(Course)):\n",
    "        if(predicted == a):\n",
    "            h='yes'\n",
    "            break\n",
    "\n",
    "\n",
    "    if (h=='yes'):\n",
    "        t1.delete(\"1.0\", END)\n",
    "        t1.insert(END, Course[a])\n",
    "    else:\n",
    "        t1.delete(\"1.0\", END)\n",
    "        t1.insert(END, \"Not Found\")\n"
   ]
  },
  {
   "cell_type": "code",
   "execution_count": 9,
   "metadata": {},
   "outputs": [],
   "source": [
    "def randomforest():\n",
    "    from sklearn.ensemble import RandomForestClassifier\n",
    "    clf4 = RandomForestClassifier()\n",
    "    clf4 = clf4.fit(X,np.ravel(y))\n",
    "\n",
    "    inter = [Interest1.get(),Interest2.get(),Interest3.get(),Interest4.get(),Interest5.get()]\n",
    "\n",
    "    for k in range(0,len(l1)):\n",
    "        for z in inter:\n",
    "            if(z==l1[k]):\n",
    "                l2[k]=1\n",
    "\n",
    "    inputtest = [l2]\n",
    "    predict = clf4.predict(inputtest)\n",
    "    predicted=predict[0]\n",
    "\n",
    "    h='no'\n",
    "    for a in range(0,len(Course)):\n",
    "        if(predicted == a):\n",
    "            h='yes'\n",
    "            break\n",
    "\n",
    "    if (h=='yes'):\n",
    "        t2.delete(\"1.0\", END)\n",
    "        t2.insert(END, Course[a])\n",
    "    else:\n",
    "        t2.delete(\"1.0\", END)\n",
    "        t2.insert(END, \"Not Found\")\n"
   ]
  },
  {
   "cell_type": "code",
   "execution_count": 10,
   "metadata": {},
   "outputs": [],
   "source": [
    "# def NaiveBayes():\n",
    "#     from sklearn.naive_bayes import GaussianNB\n",
    "#     gnb = GaussianNB()\n",
    "#     gnb=gnb.fit(X,np.ravel(y))\n",
    "\n",
    "\n",
    "#     inter = [Interest1.get(),Interest2.get(),Interest3.get(),Interest4.get(),Interest5.get()]\n",
    "#     for k in range(0,len(l1)):\n",
    "#         for z in inter:\n",
    "#             if(z==l1[k]):\n",
    "#                 l2[k]=1\n",
    "\n",
    "#     inputtest = [l2]\n",
    "#     predict = gnb.predict(inputtest)\n",
    "#     predicted=predict[0]\n",
    "\n",
    "#     h='no'\n",
    "#     for a in range(0,len(Course)):\n",
    "#         if(predicted == a):\n",
    "#             h='yes'\n",
    "#             break\n",
    "\n",
    "#     if (h=='yes'):\n",
    "#         t3.delete(\"1.0\", END)\n",
    "#         t3.insert(END, Course[a])\n",
    "#     else:\n",
    "#         t3.delete(\"1.0\", END)\n",
    "#         t3.insert(END, \"Not Found\")"
   ]
  },
  {
   "cell_type": "code",
   "execution_count": 11,
   "metadata": {},
   "outputs": [
    {
     "name": "stdout",
     "output_type": "stream",
     "text": [
      "Decision Tree Accuracy: 0.9942857142857143\n"
     ]
    },
    {
     "name": "stderr",
     "output_type": "stream",
     "text": [
      "c:\\Users\\vaish\\AppData\\Local\\Programs\\Python\\Python310\\lib\\site-packages\\sklearn\\base.py:1151: DataConversionWarning: A column-vector y was passed when a 1d array was expected. Please change the shape of y to (n_samples,), for example using ravel().\n",
      "  return fit_method(estimator, *args, **kwargs)\n"
     ]
    },
    {
     "name": "stdout",
     "output_type": "stream",
     "text": [
      "Random Forest Accuracy: 0.9942857142857143\n",
      "Naive Bayes Accuracy: 0.9942857142857143\n"
     ]
    },
    {
     "name": "stderr",
     "output_type": "stream",
     "text": [
      "c:\\Users\\vaish\\AppData\\Local\\Programs\\Python\\Python310\\lib\\site-packages\\sklearn\\utils\\validation.py:1184: DataConversionWarning: A column-vector y was passed when a 1d array was expected. Please change the shape of y to (n_samples, ), for example using ravel().\n",
      "  y = column_or_1d(y, warn=True)\n"
     ]
    }
   ],
   "source": [
    "from sklearn.model_selection import train_test_split\n",
    "from sklearn.metrics import accuracy_score\n",
    "from sklearn import tree\n",
    "from sklearn.ensemble import RandomForestClassifier\n",
    "from sklearn.naive_bayes import GaussianNB\n",
    "\n",
    "# Splitting the dataset into features (X) and target (y)\n",
    "X_train, X_test, y_train, y_test = train_test_split(X, y, test_size=0.2, random_state=42)\n",
    "\n",
    "# Training the Decision Tree classifier\n",
    "clf_dt = tree.DecisionTreeClassifier()\n",
    "clf_dt.fit(X_train, y_train)\n",
    "\n",
    "# Makeing predictions on the test set\n",
    "y_pred_dt = clf_dt.predict(X_test)\n",
    "\n",
    "# Calculating accuracy of Decision Tree\n",
    "accuracy_dt = accuracy_score(y_test, y_pred_dt)\n",
    "print(\"Decision Tree Accuracy:\", accuracy_dt)\n",
    "\n",
    "# Training the Random Forest classifier\n",
    "clf_rf = RandomForestClassifier()\n",
    "clf_rf.fit(X_train, y_train)\n",
    "\n",
    "# Making predictions on the test set\n",
    "y_pred_rf = clf_rf.predict(X_test)\n",
    "\n",
    "# Calculating accuracy of Random Forest\n",
    "accuracy_rf = accuracy_score(y_test, y_pred_rf)\n",
    "print(\"Random Forest Accuracy:\", accuracy_rf)\n",
    "\n",
    "# Training the Naive Bayes classifier\n",
    "# clf_nb = GaussianNB()\n",
    "# clf_nb.fit(X_train, y_train)\n",
    "\n",
    "# # Making predictions on the test set\n",
    "# y_pred_nb = clf_nb.predict(X_test)\n",
    "\n",
    "# # Calculating accuracy of Naive Bayes\n",
    "# accuracy_nb = accuracy_score(y_test, y_pred_nb)\n",
    "# print(\"Naive Bayes Accuracy:\", accuracy_nb)\n"
   ]
  },
  {
   "cell_type": "code",
   "execution_count": 12,
   "metadata": {},
   "outputs": [
    {
     "name": "stdout",
     "output_type": "stream",
     "text": [
      "Requirement already satisfied: easygui in c:\\users\\vaish\\appdata\\local\\programs\\python\\python310\\lib\\site-packages (0.98.3)\n",
      "Note: you may need to restart the kernel to use updated packages.\n"
     ]
    },
    {
     "name": "stderr",
     "output_type": "stream",
     "text": [
      "\n",
      "[notice] A new release of pip is available: 23.2.1 -> 24.0\n",
      "[notice] To update, run: python.exe -m pip install --upgrade pip\n"
     ]
    }
   ],
   "source": [
    "# pip install easygui\n"
   ]
  },
  {
   "cell_type": "code",
   "execution_count": 13,
   "metadata": {},
   "outputs": [],
   "source": [
    "# import easygui\n",
    "# from sklearn import tree\n",
    "# from sklearn.ensemble import RandomForestClassifier\n",
    "# from sklearn.naive_bayes import GaussianNB\n",
    "\n",
    "# # Functions for prediction\n",
    "\n",
    "# def DecisionTree(interests):\n",
    "#     clf = tree.DecisionTreeClassifier()\n",
    "#     clf = clf.fit(X, y)\n",
    "\n",
    "#     inputtest = [1 if interest in interests else 0 for interest in l1]\n",
    "#     predict = clf.predict([inputtest])[0]\n",
    "#     return Course[predict]\n",
    "\n",
    "# def RandomForest(interests):\n",
    "#     clf = RandomForestClassifier()\n",
    "#     clf = clf.fit(X, np.ravel(y))\n",
    "\n",
    "#     inputtest = [1 if interest in interests else 0 for interest in l1]\n",
    "#     predict = clf.predict([inputtest])[0]\n",
    "#     return Course[predict]\n",
    "\n",
    "# def NaiveBayes(interests):\n",
    "#     gnb = GaussianNB()\n",
    "#     gnb = gnb.fit(X, np.ravel(y))\n",
    "\n",
    "#     inputtest = [1 if interest in interests else 0 for interest in l1]\n",
    "#     predict = gnb.predict([inputtest])[0]\n",
    "#     return Course[predict]\n",
    "\n",
    "# # Main function\n",
    "\n",
    "# def main():\n",
    "#     #list of interests\n",
    "#     interests = easygui.multchoicebox(\"Select your interests:\", \"Interests\", l1)\n",
    "\n",
    "#     if interests:\n",
    "#         # Making predictions\n",
    "#         decision_tree_prediction = DecisionTree(interests)\n",
    "#         random_forest_prediction = RandomForest(interests)\n",
    "#         naive_bayes_prediction = NaiveBayes(interests)\n",
    "\n",
    "#         # Showing predictions\n",
    "#         easygui.msgbox(f\"Decision Tree Prediction: {decision_tree_prediction}\\n\"\n",
    "#                        f\"Random Forest Prediction: {random_forest_prediction}\\n\"\n",
    "#                        f\"Naive Bayes Prediction: {naive_bayes_prediction}\",\n",
    "#                        \"Predictions\")\n",
    "#     else:\n",
    "#         easygui.msgbox(\"Please select at least one interest.\", \"Error\")\n",
    "\n",
    "# #main function\n",
    "# if __name__ == \"__main__\":\n",
    "#     main()\n"
   ]
  },
  {
   "cell_type": "code",
   "execution_count": null,
   "metadata": {},
   "outputs": [],
   "source": []
  },
  {
   "cell_type": "code",
   "execution_count": null,
   "metadata": {},
   "outputs": [],
   "source": []
  }
 ],
 "metadata": {
  "kernelspec": {
   "display_name": "Python 3",
   "language": "python",
   "name": "python3"
  },
  "language_info": {
   "codemirror_mode": {
    "name": "ipython",
    "version": 3
   },
   "file_extension": ".py",
   "mimetype": "text/x-python",
   "name": "python",
   "nbconvert_exporter": "python",
   "pygments_lexer": "ipython3",
   "version": "3.10.9"
  }
 },
 "nbformat": 4,
 "nbformat_minor": 2
}
