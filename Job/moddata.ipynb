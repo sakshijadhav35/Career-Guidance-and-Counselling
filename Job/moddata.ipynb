{
 "cells": [
  {
   "cell_type": "code",
   "execution_count": 1,
   "metadata": {},
   "outputs": [],
   "source": [
    "from tkinter import *\n",
    "import numpy as np\n",
    "import pandas as pd\n",
    "from sklearn.model_selection import train_test_split\n",
    "from sklearn.metrics import accuracy_score\n",
    "from sklearn import tree\n",
    "from sklearn.ensemble import RandomForestClassifier\n",
    "from sklearn.naive_bayes import GaussianNB"
   ]
  },
  {
   "cell_type": "code",
   "execution_count": 2,
   "metadata": {},
   "outputs": [],
   "source": [
    "l1 = ['Database Fundamentals', 'Computer Architecture', 'Distributed Computing Systems', 'Cyber Security', 'Networking', 'Software Development', 'Programming Skills', 'Project Management', 'Computer Forensics Fundamentals', 'Technical Communication', 'AI ML', 'Software Engineering', 'Business Analysis', 'Communication skills', 'Data Science', 'Troubleshooting skills', 'Graphics Designing']\n"
   ]
  },
  {
   "cell_type": "code",
   "execution_count": 3,
   "metadata": {},
   "outputs": [],
   "source": [
    "Role = ['AI ML Specialist',\n",
    "          'API Integration Specialist',\n",
    "          'Application Support Engineer',\n",
    "          'Business Analyst',\n",
    "          'Customer Service Executive',\n",
    "          'Cyber Security Specialist',\n",
    "          'Data Scientist',\n",
    "          'Database Administrator',\n",
    "          'Graphics Designer',\n",
    "          'Hardware Engineer',\n",
    "          'Helpdesk Engineer',\n",
    "          'Information Security Specialist',\n",
    "          'Networking Engineer',\n",
    "          'Project Manager',\n",
    "          'Software Developer',\n",
    "          'Software Tester',\n",
    "          'Technical Writer']\n"
   ]
  },
  {
   "cell_type": "code",
   "execution_count": 4,
   "metadata": {},
   "outputs": [],
   "source": [
    "l2=[]\n",
    "for x in range(0,len(l1)):\n",
    "    l2.append(0)"
   ]
  },
  {
   "cell_type": "code",
   "execution_count": 5,
   "metadata": {},
   "outputs": [],
   "source": [
    "df=pd.read_csv(\"C:/Users/vaish/OneDrive/Desktop/moddata.csv\")  \n",
    "\n",
    "df.replace({'Role': {\n",
    "    'AI ML Specialist': 0,\n",
    "    'API Integration Specialist': 1,\n",
    "    'Application Support Engineer': 2,\n",
    "    'Business Analyst': 3,\n",
    "    'Customer Service Executive': 4,\n",
    "    'Cyber Security Specialist': 5,\n",
    "    'Data Scientist': 6,\n",
    "    'Database Administrator': 7,\n",
    "    'Graphics Designer': 8,\n",
    "    'Hardware Engineer': 9,\n",
    "    'Helpdesk Engineer': 10,\n",
    "    'Information Security Specialist': 11,\n",
    "    'Networking Engineer': 12,\n",
    "    'Project Manager': 13,\n",
    "    'Software Developer': 14,\n",
    "    'Software Tester': 15,\n",
    "    'Technical Writer': 16\n",
    "}}, inplace=True)\n"
   ]
  },
  {
   "cell_type": "code",
   "execution_count": 6,
   "metadata": {},
   "outputs": [
    {
     "data": {
      "text/plain": [
       "array([7, 7, 7, ..., 8, 8, 8], dtype=object)"
      ]
     },
     "execution_count": 6,
     "metadata": {},
     "output_type": "execute_result"
    }
   ],
   "source": [
    "X= df[l1]\n",
    "\n",
    "y = df[[\"Role\"]]\n",
    "np.ravel(y)"
   ]
  },
  {
   "cell_type": "code",
   "execution_count": 7,
   "metadata": {},
   "outputs": [
    {
     "name": "stdout",
     "output_type": "stream",
     "text": [
      "Train dataset shape: (7343, 17) (7343,)\n",
      "Test dataset shape: (1836, 17) (1836,)\n"
     ]
    }
   ],
   "source": [
    "import pandas as pd\n",
    "from sklearn.model_selection import train_test_split\n",
    "\n",
    "# Read the dataset\n",
    "df = pd.read_csv(\"C:/Users/vaish/OneDrive/Desktop/moddata.csv\")\n",
    "\n",
    "# Replace Role with numerical values\n",
    "df.replace({'Role': {\n",
    "    'AI ML Specialist': 0,\n",
    "    'API Specialist': 1,\n",
    "    'Application Support Engineer': 2,\n",
    "    'Business Analyst': 3,\n",
    "    'Customer Service Executive': 4,\n",
    "    'Cyber Security Specialist': 5,\n",
    "    'Data Scientist': 6,\n",
    "    'Database Administrator': 7,\n",
    "    'Graphics Designer': 8,\n",
    "    'Hardware Engineer': 9,\n",
    "    'Helpdesk Engineer': 10,\n",
    "    'Information Security Specialist': 11,\n",
    "    'Networking Engineer': 12,\n",
    "    'Project Manager': 13,\n",
    "    'Software Developer': 14,\n",
    "    'Software tester': 15,\n",
    "    'Technical Writer': 16\n",
    "}}, inplace=True)\n",
    "\n",
    "# Define features and target variable\n",
    "X = df.drop(columns=['Role'])  # Features\n",
    "y = df['Role']  # Target variable\n",
    "\n",
    "# Split dataset into training and testing sets\n",
    "X_train, X_test, y_train, y_test = train_test_split(X, y, test_size=0.2, random_state=42)\n",
    "\n",
    "# Check the shapes of the resulting datasets\n",
    "print(\"Train dataset shape:\", X_train.shape, y_train.shape)\n",
    "print(\"Test dataset shape:\", X_test.shape, y_test.shape)\n"
   ]
  },
  {
   "cell_type": "code",
   "execution_count": 8,
   "metadata": {},
   "outputs": [],
   "source": [
    "# Write test dataset to a new CSV file\n",
    "test_data = pd.concat([X_test, y_test], axis=1)\n",
    "test_data.to_csv(\"test_data.csv\", index=False)\n"
   ]
  },
  {
   "cell_type": "code",
   "execution_count": 9,
   "metadata": {},
   "outputs": [],
   "source": [
    "tr=pd.read_csv(\"C:/Users/vaish/OneDrive/Desktop/train mode.csv\") "
   ]
  },
  {
   "cell_type": "code",
   "execution_count": 10,
   "metadata": {},
   "outputs": [
    {
     "data": {
      "text/plain": [
       "array([ 7,  9,  2,  5, 14,  1, 13, 11, 16,  0, 15,  3,  4,  6, 10,  8],\n",
       "      dtype=int64)"
      ]
     },
     "execution_count": 10,
     "metadata": {},
     "output_type": "execute_result"
    }
   ],
   "source": [
    "tr.replace({'Role': {\n",
    "    'AI ML Specialist': 0,\n",
    "    'API Specialist': 1,\n",
    "    'Application Support Engineer': 2,\n",
    "    'Business Analyst': 3,\n",
    "    'Customer Service Executive': 4,\n",
    "    'Cyber Security Specialist': 5,\n",
    "    'Data Scientist': 6,\n",
    "    'Database Administrator': 7,\n",
    "    'Graphics Designer': 8,\n",
    "    'Hardware Engineer': 9,\n",
    "    'Helpdesk Engineer': 10,\n",
    "    'Information Security Specialist': 11,\n",
    "    'Networking Engineer': 12,\n",
    "    'Project Manager': 13,\n",
    "    'Software Developer': 14,\n",
    "    'Software tester': 15,\n",
    "    'Technical Writer': 16\n",
    "}}, inplace=True)\n",
    "\n",
    "X_test= tr[l1]\n",
    "y_test = tr[[\"Role\"]]\n",
    "np.ravel(y_test)"
   ]
  },
  {
   "cell_type": "code",
   "execution_count": 11,
   "metadata": {},
   "outputs": [
    {
     "name": "stdout",
     "output_type": "stream",
     "text": [
      "[ 7  9  2  5 14  1 13 11 16  0 15  3  4  6 10  8]\n"
     ]
    }
   ],
   "source": [
    "import numpy as np\n",
    "\n",
    "# Replace the role names with numeric values if needed, mapping unexpected values to -1\n",
    "tr.replace({'Role': {\n",
    "    'AI ML Specialist': 0,\n",
    "    'API Integration Specialist': 1,\n",
    "    'Application Support Engineer': 2,\n",
    "    'Business Analyst': 3,\n",
    "    'Customer Service Executive': 4,\n",
    "    'Cyber Security Specialist': 5,\n",
    "    'Data Scientist': 6,\n",
    "    'Database Administrator': 7,\n",
    "    'Graphics Designer': 8,\n",
    "    'Hardware Engineer': 9,\n",
    "    'Helpdesk Engineer': 10,\n",
    "    'Information Security Specialist': 11,\n",
    "    'Networking Engineer': 12,\n",
    "    'Project Manager': 13,\n",
    "    'Software Developer': 14,\n",
    "    'Software Tester': 15,\n",
    "    'Technical Writer': 16,\n",
    "    'API Specialist': -1,  # Unexpected value mapped to -1\n",
    "    'Software tester': -1  # Unexpected value mapped to -1\n",
    "}}, inplace=True)\n",
    "\n",
    "# Extract features X_test and target variable y_test\n",
    "X_test = tr[l1]\n",
    "y_test = tr[\"Role\"].values  # Extract as numpy array\n",
    "y_test_flattened = np.ravel(y_test)\n",
    "\n",
    "print(y_test_flattened)\n"
   ]
  },
  {
   "cell_type": "code",
   "execution_count": 12,
   "metadata": {},
   "outputs": [],
   "source": [
    "def DecisionTree():\n",
    "\n",
    "    from sklearn import tree\n",
    "\n",
    "    clf3 = tree.DecisionTreeClassifier()   \n",
    "    clf3 = clf3.fit(X,y)\n",
    "\n",
    "\n",
    "    inter = [Interest1.get(),Interest2.get(),Interest3.get(),Interest4.get(),Interest5.get()]\n",
    "\n",
    "    for k in range(0,len(l1)):\n",
    "        # print (k,)\n",
    "        for z in inter:\n",
    "            if(z==l1[k]):\n",
    "                l2[k]=1\n",
    "\n",
    "    inputtest = [l2]\n",
    "    predict = clf3.predict(inputtest)\n",
    "    predicted=predict[0]\n",
    "\n",
    "    h='no'\n",
    "    for a in range(0,len(Role)):\n",
    "        if(predicted == a):\n",
    "            h='yes'\n",
    "            break\n",
    "\n",
    "\n",
    "    if (h=='yes'):\n",
    "        t1.delete(\"1.0\", END)\n",
    "        t1.insert(END, Role[a])\n",
    "    else:\n",
    "        t1.delete(\"1.0\", END)\n",
    "        t1.insert(END, \"Not Found\")\n"
   ]
  },
  {
   "cell_type": "code",
   "execution_count": 13,
   "metadata": {},
   "outputs": [],
   "source": [
    "def randomforest():\n",
    "    from sklearn.ensemble import RandomForestClassifier\n",
    "    clf4 = RandomForestClassifier()\n",
    "    clf4 = clf4.fit(X,np.ravel(y))\n",
    "\n",
    "    inter = [Interest1.get(),Interest2.get(),Interest3.get(),Interest4.get(),Interest5.get()]\n",
    "\n",
    "    for k in range(0,len(l1)):\n",
    "        for z in inter:\n",
    "            if(z==l1[k]):\n",
    "                l2[k]=1\n",
    "\n",
    "    inputtest = [l2]\n",
    "    predict = clf4.predict(inputtest)\n",
    "    predicted=predict[0]\n",
    "\n",
    "    h='no'\n",
    "    for a in range(0,len(Role)):\n",
    "        if(predicted == a):\n",
    "            h='yes'\n",
    "            break\n",
    "\n",
    "    if (h=='yes'):\n",
    "        t2.delete(\"1.0\", END)\n",
    "        t2.insert(END, Role[a])\n",
    "    else:\n",
    "        t2.delete(\"1.0\", END)\n",
    "        t2.insert(END, \"Not Found\")\n"
   ]
  },
  {
   "cell_type": "code",
   "execution_count": 14,
   "metadata": {},
   "outputs": [],
   "source": [
    "def NaiveBayes():\n",
    "    from sklearn.naive_bayes import GaussianNB\n",
    "    gnb = GaussianNB()\n",
    "    gnb=gnb.fit(X,np.ravel(y))\n",
    "\n",
    "\n",
    "    inter = [Interest1.get(),Interest2.get(),Interest3.get(),Interest4.get(),Interest5.get()]\n",
    "    for k in range(0,len(l1)):\n",
    "        for z in inter:\n",
    "            if(z==l1[k]):\n",
    "                l2[k]=1\n",
    "\n",
    "    inputtest = [l2]\n",
    "    predict = gnb.predict(inputtest)\n",
    "    predicted=predict[0]\n",
    "\n",
    "    h='no'\n",
    "    for a in range(0,len(Role)):\n",
    "        if(predicted == a):\n",
    "            h='yes'\n",
    "            break\n",
    "\n",
    "    if (h=='yes'):\n",
    "        t3.delete(\"1.0\", END)\n",
    "        t3.insert(END, Role[a])\n",
    "    else:\n",
    "        t3.delete(\"1.0\", END)\n",
    "        t3.insert(END, \"Not Found\")"
   ]
  },
  {
   "cell_type": "code",
   "execution_count": 15,
   "metadata": {},
   "outputs": [
    {
     "name": "stdout",
     "output_type": "stream",
     "text": [
      "Decision Tree Accuracy: 0.9553376906318083\n"
     ]
    },
    {
     "name": "stdout",
     "output_type": "stream",
     "text": [
      "Random Forest Accuracy: 0.9553376906318083\n",
      "Naive Bayes Accuracy: 0.9547930283224401\n"
     ]
    }
   ],
   "source": [
    "from sklearn.model_selection import train_test_split\n",
    "from sklearn.metrics import accuracy_score\n",
    "from sklearn import tree\n",
    "from sklearn.ensemble import RandomForestClassifier\n",
    "from sklearn.naive_bayes import GaussianNB\n",
    "\n",
    "# Splitting the dataset into features (X) and target (y)\n",
    "X_train, X_test, y_train, y_test = train_test_split(X, y, test_size=0.2, random_state=42)\n",
    "\n",
    "# Training the Decision Tree classifier\n",
    "clf_dt = tree.DecisionTreeClassifier()\n",
    "clf_dt.fit(X_train, y_train)\n",
    "\n",
    "# Makeing predictions on the test set\n",
    "y_pred_dt = clf_dt.predict(X_test)\n",
    "\n",
    "# Calculating accuracy of Decision Tree\n",
    "accuracy_dt = accuracy_score(y_test, y_pred_dt)\n",
    "print(\"Decision Tree Accuracy:\", accuracy_dt)\n",
    "\n",
    "# Training the Random Forest classifier\n",
    "clf_rf = RandomForestClassifier()\n",
    "clf_rf.fit(X_train, y_train)\n",
    "\n",
    "# Making predictions on the test set\n",
    "y_pred_rf = clf_rf.predict(X_test)\n",
    "\n",
    "# Calculating accuracy of Random Forest\n",
    "accuracy_rf = accuracy_score(y_test, y_pred_rf)\n",
    "print(\"Random Forest Accuracy:\", accuracy_rf)\n",
    "\n",
    "# Training the Naive Bayes classifier\n",
    "clf_nb = GaussianNB()\n",
    "clf_nb.fit(X_train, y_train)\n",
    "\n",
    "# Making predictions on the test set\n",
    "y_pred_nb = clf_nb.predict(X_test)\n",
    "\n",
    "# Calculating accuracy of Naive Bayes\n",
    "accuracy_nb = accuracy_score(y_test, y_pred_nb)\n",
    "print(\"Naive Bayes Accuracy:\", accuracy_nb)\n"
   ]
  },
  {
   "cell_type": "code",
   "execution_count": 16,
   "metadata": {},
   "outputs": [
    {
     "name": "stdout",
     "output_type": "stream",
     "text": [
      "Requirement already satisfied: easygui in c:\\users\\vaish\\appdata\\local\\programs\\python\\python310\\lib\\site-packages (0.98.3)\n",
      "Note: you may need to restart the kernel to use updated packages.\n"
     ]
    },
    {
     "name": "stderr",
     "output_type": "stream",
     "text": [
      "\n",
      "[notice] A new release of pip is available: 23.2.1 -> 24.0\n",
      "[notice] To update, run: python.exe -m pip install --upgrade pip\n"
     ]
    }
   ],
   "source": [
    "pip install easygui"
   ]
  },
  {
   "cell_type": "code",
   "execution_count": 17,
   "metadata": {},
   "outputs": [
    {
     "name": "stderr",
     "output_type": "stream",
     "text": [
      "c:\\Users\\vaish\\AppData\\Local\\Programs\\Python\\Python310\\lib\\site-packages\\sklearn\\base.py:439: UserWarning: X does not have valid feature names, but DecisionTreeClassifier was fitted with feature names\n",
      "  warnings.warn(\n",
      "c:\\Users\\vaish\\AppData\\Local\\Programs\\Python\\Python310\\lib\\site-packages\\sklearn\\base.py:439: UserWarning: X does not have valid feature names, but RandomForestClassifier was fitted with feature names\n",
      "  warnings.warn(\n",
      "c:\\Users\\vaish\\AppData\\Local\\Programs\\Python\\Python310\\lib\\site-packages\\sklearn\\base.py:439: UserWarning: X does not have valid feature names, but GaussianNB was fitted with feature names\n",
      "  warnings.warn(\n"
     ]
    }
   ],
   "source": [
    "import easygui\n",
    "from sklearn import tree\n",
    "from sklearn.ensemble import RandomForestClassifier\n",
    "from sklearn.naive_bayes import GaussianNB\n",
    "\n",
    "# Functions for prediction\n",
    "\n",
    "def DecisionTree(interests):\n",
    "    clf = tree.DecisionTreeClassifier()\n",
    "    clf = clf.fit(X, y)\n",
    "\n",
    "    inputtest = [1 if interest in interests else 0 for interest in l1]\n",
    "    predict = clf.predict([inputtest])[0]\n",
    "    return Role[predict]\n",
    "\n",
    "def RandomForest(interests):\n",
    "    clf = RandomForestClassifier()\n",
    "    clf = clf.fit(X, np.ravel(y))\n",
    "\n",
    "    inputtest = [1 if interest in interests else 0 for interest in l1]\n",
    "    predict = clf.predict([inputtest])[0]\n",
    "    return Role[predict]\n",
    "\n",
    "def NaiveBayes(interests):\n",
    "    gnb = GaussianNB()\n",
    "    gnb = gnb.fit(X, np.ravel(y))\n",
    "\n",
    "    inputtest = [1 if interest in interests else 0 for interest in l1]\n",
    "    predict = gnb.predict([inputtest])[0]\n",
    "    return Role[predict]\n",
    "\n",
    "# Main function\n",
    "\n",
    "def main():\n",
    "    #list of interests\n",
    "    interests = easygui.multchoicebox(\"Select your interests:\", \"Interests\", l1)\n",
    "\n",
    "    if interests:\n",
    "        # Making predictions\n",
    "        decision_tree_prediction = DecisionTree(interests)\n",
    "        random_forest_prediction = RandomForest(interests)\n",
    "        naive_bayes_prediction = NaiveBayes(interests)\n",
    "\n",
    "        # Showing predictions\n",
    "        easygui.msgbox(f\"Decision Tree Prediction: {decision_tree_prediction}\\n\"\n",
    "                       f\"Random Forest Prediction: {random_forest_prediction}\\n\"\n",
    "                       f\"Naive Bayes Prediction: {naive_bayes_prediction}\",\n",
    "                       \"Predictions\")\n",
    "    else:\n",
    "        easygui.msgbox(\"Please select at least one interest.\", \"Error\")\n",
    "\n",
    "#main function\n",
    "if __name__ == \"__main__\":\n",
    "    main()\n"
   ]
  },
  {
   "cell_type": "code",
   "execution_count": null,
   "metadata": {},
   "outputs": [],
   "source": []
  }
 ],
 "metadata": {
  "kernelspec": {
   "display_name": "Python 3",
   "language": "python",
   "name": "python3"
  },
  "language_info": {
   "codemirror_mode": {
    "name": "ipython",
    "version": 3
   },
   "file_extension": ".py",
   "mimetype": "text/x-python",
   "name": "python",
   "nbconvert_exporter": "python",
   "pygments_lexer": "ipython3",
   "version": "3.10.9"
  }
 },
 "nbformat": 4,
 "nbformat_minor": 2
}
